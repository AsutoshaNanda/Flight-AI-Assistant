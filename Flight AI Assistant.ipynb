{
 "cells": [
  {
   "cell_type": "code",
   "execution_count": 1,
   "id": "94440ee5-9e56-477c-b3dc-6e7932af6b9b",
   "metadata": {},
   "outputs": [],
   "source": [
    "import os\n",
    "import json\n",
    "import requests\n",
    "from IPython.display import update_display,Markdown,display\n",
    "from dotenv import load_dotenv\n",
    "from bs4 import BeautifulSoup\n",
    "from openai import OpenAI\n",
    "import anthropic\n",
    "import google.generativeai\n",
    "import gradio as gr"
   ]
  },
  {
   "cell_type": "code",
   "execution_count": 2,
   "id": "07b1b5fb-e85c-47f7-80d3-2c5ade994fdc",
   "metadata": {},
   "outputs": [
    {
     "name": "stdout",
     "output_type": "stream",
     "text": [
      "OpenAI API Key exists and begins sk-proj-\n",
      "Anthropic API Key exists and begins sk-ant-\n",
      "Google API Key exists and begins AIzaSyCp\n"
     ]
    }
   ],
   "source": [
    "load_dotenv(override=True)\n",
    "openai_api_key = os.getenv('OPENAI_API_KEY')\n",
    "anthropic_api_key = os.getenv('ANTHROPIC_API_KEY')\n",
    "google_api_key = os.getenv('GOOGLE_API_KEY')\n",
    "\n",
    "if openai_api_key:\n",
    "    print(f\"OpenAI API Key exists and begins {openai_api_key[:8]}\")\n",
    "else:\n",
    "    print(\"OpenAI API Key not set\")\n",
    "    \n",
    "if anthropic_api_key:\n",
    "    print(f\"Anthropic API Key exists and begins {anthropic_api_key[:7]}\")\n",
    "else:\n",
    "    print(\"Anthropic API Key not set\")\n",
    "\n",
    "if google_api_key:\n",
    "    print(f\"Google API Key exists and begins {google_api_key[:8]}\")\n",
    "else:\n",
    "    print(\"Google API Key not set\")"
   ]
  },
  {
   "cell_type": "code",
   "execution_count": 3,
   "id": "1ddd11f7-8521-459e-b366-aef84a487962",
   "metadata": {},
   "outputs": [],
   "source": [
    "openai = OpenAI()\n",
    "claude = anthropic.Anthropic()\n",
    "google.generativeai.configure()"
   ]
  },
  {
   "cell_type": "code",
   "execution_count": 4,
   "id": "2625fbbe-ae61-4b5b-854b-82fb38cb54f9",
   "metadata": {},
   "outputs": [],
   "source": [
    "system_message = \"You are a helpful assistant for an Airline called FlightAI. \"\n",
    "system_message += \"Give short, courteous answers, no more than 1 sentence. \"\n",
    "system_message += \"Always be accurate. If you don't know the answer, say so.\""
   ]
  },
  {
   "cell_type": "code",
   "execution_count": 5,
   "id": "228edb3d-157c-4c5a-bf4a-70a21b962b95",
   "metadata": {},
   "outputs": [],
   "source": [
    "def chat(message,history):\n",
    "    messages= [{'role':'system','content':system_message}]\n",
    "    for human, assistant, *rest in history:\n",
    "        messages.append({'role':'user','content':human})\n",
    "        messages.append({'role':'assistant','content':assistant})\n",
    "    messages.append({'role':'user','content':message})\n",
    "\n",
    "    response = openai.chat.completions.create(\n",
    "        model = 'gpt-4o-mini',\n",
    "        messages = messages\n",
    "    )\n",
    "\n",
    "    return response.choices[0].message.content"
   ]
  },
  {
   "cell_type": "code",
   "execution_count": 6,
   "id": "1ba9d8ea-7e64-4415-b5b5-103b4499987c",
   "metadata": {},
   "outputs": [
    {
     "name": "stderr",
     "output_type": "stream",
     "text": [
      "/opt/anaconda3/envs/llms/lib/python3.11/site-packages/gradio/chat_interface.py:345: UserWarning: The 'tuples' format for chatbot messages is deprecated and will be removed in a future version of Gradio. Please set type='messages' instead, which uses openai-style 'role' and 'content' keys.\n",
      "  self.chatbot = Chatbot(\n"
     ]
    },
    {
     "name": "stdout",
     "output_type": "stream",
     "text": [
      "* Running on local URL:  http://127.0.0.1:7860\n",
      "* Running on public URL: https://feccf89c50b754888b.gradio.live\n",
      "\n",
      "This share link expires in 1 week. For free permanent hosting and GPU upgrades, run `gradio deploy` from the terminal in the working directory to deploy to Hugging Face Spaces (https://huggingface.co/spaces)\n"
     ]
    },
    {
     "data": {
      "text/html": [
       "<div><iframe src=\"https://feccf89c50b754888b.gradio.live\" width=\"100%\" height=\"500\" allow=\"autoplay; camera; microphone; clipboard-read; clipboard-write;\" frameborder=\"0\" allowfullscreen></iframe></div>"
      ],
      "text/plain": [
       "<IPython.core.display.HTML object>"
      ]
     },
     "metadata": {},
     "output_type": "display_data"
    },
    {
     "data": {
      "text/plain": []
     },
     "execution_count": 6,
     "metadata": {},
     "output_type": "execute_result"
    }
   ],
   "source": [
    "gr.ChatInterface(fn = chat).launch(share=True)"
   ]
  },
  {
   "cell_type": "markdown",
   "id": "85c415d5-119c-4c1e-a33a-bfef4f5a592d",
   "metadata": {},
   "source": [
    "# Define Function "
   ]
  },
  {
   "cell_type": "code",
   "execution_count": 14,
   "id": "b12ae88c-080b-49e5-887a-517485c7439a",
   "metadata": {},
   "outputs": [],
   "source": [
    "ticket_prices = {\n",
    "    \"london\": \"$799\", \n",
    "    \"paris\": \"$899\", \n",
    "    \"tokyo\": \"$1400\", \n",
    "    \"berlin\": \"$499\",\n",
    "    'mumbai': '$599'\n",
    "}"
   ]
  },
  {
   "cell_type": "code",
   "execution_count": 15,
   "id": "49772690-3c59-4bb2-9eab-e43db29ae834",
   "metadata": {},
   "outputs": [],
   "source": [
    "def get_ticket_price(destination_city):\n",
    "    print(f\"Tool to get_ticket_price for {destination_city} is\")\n",
    "    city = destination_city.lower()\n",
    "    return ticket_prices.get(city,\"Unknown\")"
   ]
  },
  {
   "cell_type": "code",
   "execution_count": 16,
   "id": "8fe17491-ce5f-4714-8b93-7ae7f0a16543",
   "metadata": {},
   "outputs": [],
   "source": [
    "discount_prices = {\n",
    "    \"london\": \"$599\", \n",
    "    \"paris\": \"$699\", \n",
    "    \"tokyo\": \"$999\", \n",
    "    \"berlin\": \"$299\",\n",
    "    'mumbai': '$399'\n",
    "}"
   ]
  },
  {
   "cell_type": "code",
   "execution_count": 18,
   "id": "8b875407-4e25-4bf5-ae61-94aa193d04d6",
   "metadata": {},
   "outputs": [],
   "source": [
    "def get_discounted_price(destination_city):\n",
    "    print(f\"Tool to get_discounted_price for {destination_city} is\")\n",
    "    city = destination_city.lower()\n",
    "    return discount_prices.get(city,'Not Found')"
   ]
  },
  {
   "cell_type": "code",
   "execution_count": 19,
   "id": "533153aa-7250-47e9-a125-f9dbf650ede6",
   "metadata": {},
   "outputs": [],
   "source": [
    "price_function = {\n",
    "    'name':'get_ticket_price',\n",
    "    'description':\"Get the price of a return ticket to the destination city. Call this whenever you need to know the ticket price, for example when a customer asks 'How much is a ticket to this city\",\n",
    "    'parameters': {\n",
    "        'type':'object',\n",
    "        'properties': {\n",
    "            'destination_city': {\n",
    "                'type':'string',\n",
    "                'description':\"The city that the customer wants to travel to\"\n",
    "            }\n",
    "        },\n",
    "        'required' : ['destination_city'],\n",
    "        'additionalProperties' : False\n",
    "    }\n",
    "}"
   ]
  },
  {
   "cell_type": "code",
   "execution_count": 20,
   "id": "d904d119-89bd-43bb-8e4d-87c8c7205deb",
   "metadata": {},
   "outputs": [],
   "source": [
    "discount_function = {\n",
    "    'name':'get_discounted_price',\n",
    "    'description' :\"Get the discounted price of a return ticket to the destination city. Call this whenever you need to know the ticket price at discount or at sale, for example when a customer asks 'How much is a ticket to this city during Christmas or Black Friday\",\n",
    "    'parameters':{\n",
    "        'type':'object',\n",
    "        'properties' : {\n",
    "            'destination_city': {\n",
    "                'type':'string',\n",
    "                'description':\"The city that the customer wants to travel to\"\n",
    "            }\n",
    "        },\n",
    "        'required': ['destination_city'],\n",
    "        'additionalProperties': False\n",
    "    }\n",
    "}"
   ]
  },
  {
   "cell_type": "code",
   "execution_count": 21,
   "id": "d8b5a358-b31a-45d6-9a01-851ab674b452",
   "metadata": {},
   "outputs": [],
   "source": [
    "tools = [{'type':'function','function':price_function}]"
   ]
  },
  {
   "cell_type": "code",
   "execution_count": 22,
   "id": "3eea7dcf-64e0-4fea-bc2d-687362638166",
   "metadata": {},
   "outputs": [],
   "source": [
    "tools += [{'type':'function','function': discount_function }]"
   ]
  },
  {
   "cell_type": "code",
   "execution_count": 55,
   "id": "708bc4d5-bf49-47dc-89c7-c24796c2edea",
   "metadata": {},
   "outputs": [],
   "source": [
    "def chat(message,history):\n",
    "    messages = [{'role':'system','content':system_message}]\n",
    "    for human,assistant, *rest in history:\n",
    "        messages.append({'role':'user','content':human})\n",
    "        messages.append({'role':'assistant','content':assistant})\n",
    "    messages.append({'role':'user','content':message})\n",
    "\n",
    "    response = openai.chat.completions.create(\n",
    "        model = 'gpt-4o-mini',\n",
    "        messages = messages,\n",
    "        tools = tools\n",
    "    )\n",
    "\n",
    "    if response.choices[0].finish_reason =='tool_calls':\n",
    "        message = response.choices[0].message\n",
    "        response, cities = handle_tool_calls(message)\n",
    "        messages.append(message)\n",
    "        messages.extend(response)\n",
    "        response = openai.chat.completions.create(\n",
    "            messages= messages,\n",
    "            model = 'gpt-4o-mini'\n",
    "        )\n",
    "    return response.choices[0].message.content"
   ]
  },
  {
   "cell_type": "code",
   "execution_count": 56,
   "id": "655acd18-e20f-43af-8550-15c12ac89d4c",
   "metadata": {},
   "outputs": [],
   "source": [
    "# Used best when only a single tool is used\n",
    "\n",
    "# def handle_tool_call(message):\n",
    "#     tool_call = message.tool_calls[0]\n",
    "#     arguments = json.loads(tool_call.function.arguments)\n",
    "#     city = arguments.get('destination_city')\n",
    "#     price = get_ticket_price(city)\n",
    "#     response = {\n",
    "#         'role':'tool',\n",
    "#         'content':json.dumps({'destination_city':city,'price':price}),\n",
    "#         'tool_call_id' : message.tool_calls[0].id\n",
    "#     }\n",
    "#     return response, city"
   ]
  },
  {
   "cell_type": "code",
   "execution_count": 57,
   "id": "89a99222-9b7c-4d26-bb99-f0528f4e0b42",
   "metadata": {},
   "outputs": [],
   "source": [
    "def handle_tool_calls(message):\n",
    "    response = []\n",
    "    cities = []\n",
    "    for tool_call in message.tool_calls:\n",
    "        arguments = json.loads(tool_call.function.arguments)\n",
    "        function_name = tool_call.function.name\n",
    "        city= arguments.get('destination_city')\n",
    "        cities.append(city)\n",
    "\n",
    "        if function_name == \"get_ticket_price\":\n",
    "            price = get_ticket_price(city)\n",
    "            result = {'destination_city':city,'price':price}\n",
    "        elif function_name == \"get_discounted_price\":\n",
    "            discounted_price = get_discounted_price(city)\n",
    "            result = {'destination_city':city,'discounted_price':discounted_price}\n",
    "        else:\n",
    "            result = {'error':'Unknow/ Not Found'}\n",
    "\n",
    "        response.append({\n",
    "            'role':'tool',\n",
    "            'content': json.dumps(result),\n",
    "            'tool_call_id': tool_call.id\n",
    "        })\n",
    "\n",
    "    return response,cities"
   ]
  },
  {
   "cell_type": "code",
   "execution_count": 58,
   "id": "308c83ab-f61c-4dd9-9c7a-b46ae129100d",
   "metadata": {},
   "outputs": [
    {
     "name": "stdout",
     "output_type": "stream",
     "text": [
      "* Running on local URL:  http://127.0.0.1:7868\n",
      "* To create a public link, set `share=True` in `launch()`.\n"
     ]
    },
    {
     "data": {
      "text/html": [
       "<div><iframe src=\"http://127.0.0.1:7868/\" width=\"100%\" height=\"500\" allow=\"autoplay; camera; microphone; clipboard-read; clipboard-write;\" frameborder=\"0\" allowfullscreen></iframe></div>"
      ],
      "text/plain": [
       "<IPython.core.display.HTML object>"
      ]
     },
     "metadata": {},
     "output_type": "display_data"
    },
    {
     "data": {
      "text/plain": []
     },
     "execution_count": 58,
     "metadata": {},
     "output_type": "execute_result"
    },
    {
     "name": "stdout",
     "output_type": "stream",
     "text": [
      "Tool to get_ticket_price for Berlin is\n",
      "Tool to get_ticket_price for Berlin is\n",
      "Tool to get_discounted_price for Berlin is\n",
      "Tool to get_discounted_price for Tokyo is\n",
      "Tool to get_discounted_price for Mumbai is\n",
      "Tool to get_ticket_price for Tokyo is\n",
      "Tool to get_discounted_price for Tokyo is\n",
      "Tool to get_discounted_price for Berlin is\n"
     ]
    }
   ],
   "source": [
    "gr.ChatInterface(fn = chat,type = 'messages').launch()"
   ]
  }
 ],
 "metadata": {
  "kernelspec": {
   "display_name": "Python 3 (ipykernel)",
   "language": "python",
   "name": "python3"
  },
  "language_info": {
   "codemirror_mode": {
    "name": "ipython",
    "version": 3
   },
   "file_extension": ".py",
   "mimetype": "text/x-python",
   "name": "python",
   "nbconvert_exporter": "python",
   "pygments_lexer": "ipython3",
   "version": "3.11.13"
  }
 },
 "nbformat": 4,
 "nbformat_minor": 5
}
